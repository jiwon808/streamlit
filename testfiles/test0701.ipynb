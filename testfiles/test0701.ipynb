{
 "cells": [
  {
   "cell_type": "code",
   "execution_count": 4,
   "metadata": {},
   "outputs": [],
   "source": [
    "import pandas as pd\n",
    "import re\n",
    "import matplotlib.pyplot as plt\n",
    "from collections import defaultdict\n",
    "\n",
    "file_path = r'C:\\Users\\HOME\\Desktop\\skt_6_aifellowship\\idcube-ai-assistant-fellowship\\data_from_Chayoung\\template_qa.xlsx'\n",
    "xlsx = pd.ExcelFile(file_path)\n",
    "\n",
    "all_data = []\n",
    "for sheet_name in xlsx.sheet_names:\n",
    "    df = pd.read_excel(xlsx, sheet_name=sheet_name)\n",
    "    # 각 행을 튜플로 변환하여 리스트에 추가\n",
    "    sheet_data = [tuple(row) for row in df.to_numpy()]\n",
    "    all_data.extend(sheet_data)\n"
   ]
  },
  {
   "cell_type": "code",
   "execution_count": 6,
   "metadata": {},
   "outputs": [
    {
     "name": "stdout",
     "output_type": "stream",
     "text": [
      "347\n"
     ]
    }
   ],
   "source": [
    "print(len(all_data))"
   ]
  },
  {
   "cell_type": "code",
   "execution_count": null,
   "metadata": {},
   "outputs": [],
   "source": []
  }
 ],
 "metadata": {
  "kernelspec": {
   "display_name": "jupyter_skt_venv",
   "language": "python",
   "name": "python3"
  },
  "language_info": {
   "codemirror_mode": {
    "name": "ipython",
    "version": 3
   },
   "file_extension": ".py",
   "mimetype": "text/x-python",
   "name": "python",
   "nbconvert_exporter": "python",
   "pygments_lexer": "ipython3",
   "version": "3.12.4"
  }
 },
 "nbformat": 4,
 "nbformat_minor": 2
}
