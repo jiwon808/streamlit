{
 "cells": [
  {
   "cell_type": "code",
   "execution_count": 2,
   "metadata": {},
   "outputs": [],
   "source": [
    "import pandas as pd\n",
    "df = pd.read_json(r'C:\\Users\\HOME\\Desktop\\skt_6_aifellowship\\idcube-ai-assistant-fellowship\\testfiles\\kdbtest_vectorized_tokenized_jihoon.json')"
   ]
  },
  {
   "cell_type": "code",
   "execution_count": 6,
   "metadata": {},
   "outputs": [
    {
     "name": "stdout",
     "output_type": "stream",
     "text": [
      "Questions have been saved to questions.jsonl\n"
     ]
    }
   ],
   "source": [
    "import json\n",
    "questions = [hit[\"_source\"][\"question\"] for hit in df[\"hits\"][\"hits\"]]\n",
    "output_file = 'questions.jsonl'\n",
    "\n",
    "# JSON Lines 형식으로 저장\n",
    "with open(output_file, 'w', encoding='utf-8') as f:\n",
    "    for question in questions:\n",
    "        json_line = json.dumps({\"question\": question}, ensure_ascii=False)\n",
    "        f.write(json_line + '\\n')\n",
    "\n",
    "print(f\"Questions have been saved to {output_file}\")"
   ]
  }
 ],
 "metadata": {
  "kernelspec": {
   "display_name": "jupyter_skt_venv",
   "language": "python",
   "name": "python3"
  },
  "language_info": {
   "codemirror_mode": {
    "name": "ipython",
    "version": 3
   },
   "file_extension": ".py",
   "mimetype": "text/x-python",
   "name": "python",
   "nbconvert_exporter": "python",
   "pygments_lexer": "ipython3",
   "version": "3.12.4"
  }
 },
 "nbformat": 4,
 "nbformat_minor": 2
}
